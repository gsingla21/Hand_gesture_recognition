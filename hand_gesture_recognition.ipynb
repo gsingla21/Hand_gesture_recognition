{
  "nbformat": 4,
  "nbformat_minor": 0,
  "metadata": {
    "colab": {
      "name": "Untitled2.ipynb",
      "provenance": [],
      "collapsed_sections": [],
      "mount_file_id": "1Idf7mDIysG90es_LXen9aM0XlCouvbgb",
      "authorship_tag": "ABX9TyOsSy6ScKSZuNRjg6RVl6wD",
      "include_colab_link": true
    },
    "kernelspec": {
      "name": "python3",
      "display_name": "Python 3"
    }
  },
  "cells": [
    {
      "cell_type": "markdown",
      "metadata": {
        "id": "view-in-github",
        "colab_type": "text"
      },
      "source": [
        "<a href=\"https://colab.research.google.com/github/gourish2/hand-gesture-recognition/blob/main/Untitled2.ipynb\" target=\"_parent\"><img src=\"https://colab.research.google.com/assets/colab-badge.svg\" alt=\"Open In Colab\"/></a>"
      ]
    },
    {
      "cell_type": "code",
      "metadata": {
        "colab": {
          "base_uri": "https://localhost:8080/"
        },
        "id": "9ShtwBQVHS9o",
        "outputId": "52c8403f-70c2-4da7-b830-6abb8d1f27ab"
      },
      "source": [
        "import numpy as np\n",
        "\n",
        "import matplotlib.pyplot as plt\n",
        "\n",
        "import utils\n",
        "\n",
        "import os\n",
        "\n",
        "%matplotlib inline\n",
        "\n",
        "from keras.preprocessing.image import ImageDataGenerator\n",
        "\n",
        "from keras.layers import Dense, Input, Dropout,Flatten, Conv2D\n",
        "\n",
        "from keras.layers import BatchNormalization, Activation, MaxPooling2D\n",
        "\n",
        "from keras.models import Model, Sequential\n",
        "\n",
        "from keras.optimizers import Adam\n",
        "\n",
        "from keras.callbacks import ModelCheckpoint, ReduceLROnPlateau\n",
        "\n",
        "from keras.utils import plot_model\n",
        "\n",
        "from IPython.display import SVG, Image\n",
        "\n",
        "import tensorflow as tf\n",
        "\n",
        "print(\"Tensorflow version:\", tf.__version__)"
      ],
      "execution_count": 3,
      "outputs": [
        {
          "output_type": "stream",
          "text": [
            "Tensorflow version: 2.3.0\n"
          ],
          "name": "stdout"
        }
      ]
    },
    {
      "cell_type": "code",
      "metadata": {
        "colab": {
          "base_uri": "https://localhost:8080/"
        },
        "id": "qmlPeZ6qHh4A",
        "outputId": "65bf4f25-e02e-4807-c47d-2fc50133b300"
      },
      "source": [
        "for expression in os.listdir(\"/content/drive/MyDrive/train\"):\n",
        "  print(str(len(os.listdir(\"/content/drive/MyDrive/train/\"+expression)))+\" \"+expression+' images')"
      ],
      "execution_count": 4,
      "outputs": [
        {
          "output_type": "stream",
          "text": [
            "200 five images\n",
            "200 four images\n",
            "200 three images\n",
            "200 one images\n",
            "200 two images\n",
            "200 zero images\n"
          ],
          "name": "stdout"
        }
      ]
    },
    {
      "cell_type": "code",
      "metadata": {
        "colab": {
          "base_uri": "https://localhost:8080/"
        },
        "id": "qYmzB1qQIKPF",
        "outputId": "639875b2-f759-4a25-b8ac-817301a13d8b"
      },
      "source": [
        "img_size=64\n",
        "\n",
        "batch_size=64\n",
        "\n",
        "datagen_train=ImageDataGenerator(horizontal_flip=True)\n",
        "\n",
        "train_generator=datagen_train.flow_from_directory(\"/content/drive/MyDrive/train\",\n",
        "\n",
        "                                                 target_size=(img_size,img_size),\n",
        "\n",
        "                                                 color_mode='grayscale',\n",
        "\n",
        "                                                 batch_size=batch_size,\n",
        "\n",
        "                                                 class_mode='categorical',\n",
        "\n",
        "                                                 shuffle=True)\n",
        "\n",
        "datagen_validation=ImageDataGenerator(horizontal_flip=True)\n",
        "\n",
        "validation_generator=datagen_train.flow_from_directory(\"/content/drive/MyDrive/train\",\n",
        "\n",
        "                                                 target_size=(img_size,img_size),\n",
        "\n",
        "                                                 color_mode='grayscale',\n",
        "\n",
        "                                                 batch_size=batch_size,\n",
        "\n",
        "                                                 class_mode='categorical',\n",
        "\n",
        "                                                 shuffle=True)"
      ],
      "execution_count": 5,
      "outputs": [
        {
          "output_type": "stream",
          "text": [
            "Found 1200 images belonging to 6 classes.\n",
            "Found 1200 images belonging to 6 classes.\n"
          ],
          "name": "stdout"
        }
      ]
    },
    {
      "cell_type": "code",
      "metadata": {
        "colab": {
          "base_uri": "https://localhost:8080/"
        },
        "id": "bZs3Q9caIXA3",
        "outputId": "f0355bdd-7cd3-4cae-9353-45de7c36487d"
      },
      "source": [
        "model=Sequential()\n",
        "\n",
        "#conv-1\n",
        "\n",
        "model.add(Conv2D(64,(3,3),padding='same',input_shape=(64,64,1)))\n",
        "\n",
        "model.add(BatchNormalization())\n",
        "\n",
        "model.add(Activation('relu'))\n",
        "\n",
        "model.add(MaxPooling2D(pool_size=(2,2)))\n",
        "\n",
        "model.add(Dropout(0.25))\n",
        "\n",
        "#2 -conv layer\n",
        "\n",
        "model.add(Conv2D(128,(5,5),padding='same'))\n",
        "\n",
        "model.add(BatchNormalization())\n",
        "\n",
        "model.add(Activation('relu'))\n",
        "\n",
        "model.add(MaxPooling2D(pool_size=(2,2)))\n",
        "\n",
        "model.add(Dropout(0.25))\n",
        "\n",
        "#3 -conv layer\n",
        "\n",
        "model.add(Conv2D(512,(3,3),padding='same'))\n",
        "\n",
        "model.add(BatchNormalization())\n",
        "\n",
        "model.add(Activation('relu'))\n",
        "\n",
        "model.add(MaxPooling2D(pool_size=(2,2)))\n",
        "\n",
        "model.add(Dropout(0.25))\n",
        "\n",
        "#4 -conv layer\n",
        "\n",
        "model.add(Conv2D(512,(3,3),padding='same'))\n",
        "\n",
        "model.add(BatchNormalization())\n",
        "\n",
        "model.add(Activation('relu'))\n",
        "\n",
        "model.add(MaxPooling2D(pool_size=(2,2)))\n",
        "\n",
        "model.add(Dropout(0.25))\n",
        "\n",
        "model.add(Flatten())\n",
        "\n",
        "model.add(Dense(256))\n",
        "\n",
        "model.add(BatchNormalization())\n",
        "\n",
        "model.add(Activation('relu'))\n",
        "\n",
        "model.add(Dropout(0.25))\n",
        "\n",
        "model.add(Dense(512))\n",
        "\n",
        "model.add(BatchNormalization())\n",
        "\n",
        "model.add(Activation('relu'))\n",
        "\n",
        "model.add(Dropout(0.25))\n",
        "\n",
        "model.add(Dense(6,activation='softmax'))\n",
        "\n",
        "opt=Adam(lr=0.0005)\n",
        "\n",
        "#lr-learning rate\n",
        "\n",
        "model.compile(optimizer=opt,loss='categorical_crossentropy',metrics=['accuracy'])\n",
        "\n",
        "model.summary()"
      ],
      "execution_count": 6,
      "outputs": [
        {
          "output_type": "stream",
          "text": [
            "Model: \"sequential\"\n",
            "_________________________________________________________________\n",
            "Layer (type)                 Output Shape              Param #   \n",
            "=================================================================\n",
            "conv2d (Conv2D)              (None, 64, 64, 64)        640       \n",
            "_________________________________________________________________\n",
            "batch_normalization (BatchNo (None, 64, 64, 64)        256       \n",
            "_________________________________________________________________\n",
            "activation (Activation)      (None, 64, 64, 64)        0         \n",
            "_________________________________________________________________\n",
            "max_pooling2d (MaxPooling2D) (None, 32, 32, 64)        0         \n",
            "_________________________________________________________________\n",
            "dropout (Dropout)            (None, 32, 32, 64)        0         \n",
            "_________________________________________________________________\n",
            "conv2d_1 (Conv2D)            (None, 32, 32, 128)       204928    \n",
            "_________________________________________________________________\n",
            "batch_normalization_1 (Batch (None, 32, 32, 128)       512       \n",
            "_________________________________________________________________\n",
            "activation_1 (Activation)    (None, 32, 32, 128)       0         \n",
            "_________________________________________________________________\n",
            "max_pooling2d_1 (MaxPooling2 (None, 16, 16, 128)       0         \n",
            "_________________________________________________________________\n",
            "dropout_1 (Dropout)          (None, 16, 16, 128)       0         \n",
            "_________________________________________________________________\n",
            "conv2d_2 (Conv2D)            (None, 16, 16, 512)       590336    \n",
            "_________________________________________________________________\n",
            "batch_normalization_2 (Batch (None, 16, 16, 512)       2048      \n",
            "_________________________________________________________________\n",
            "activation_2 (Activation)    (None, 16, 16, 512)       0         \n",
            "_________________________________________________________________\n",
            "max_pooling2d_2 (MaxPooling2 (None, 8, 8, 512)         0         \n",
            "_________________________________________________________________\n",
            "dropout_2 (Dropout)          (None, 8, 8, 512)         0         \n",
            "_________________________________________________________________\n",
            "conv2d_3 (Conv2D)            (None, 8, 8, 512)         2359808   \n",
            "_________________________________________________________________\n",
            "batch_normalization_3 (Batch (None, 8, 8, 512)         2048      \n",
            "_________________________________________________________________\n",
            "activation_3 (Activation)    (None, 8, 8, 512)         0         \n",
            "_________________________________________________________________\n",
            "max_pooling2d_3 (MaxPooling2 (None, 4, 4, 512)         0         \n",
            "_________________________________________________________________\n",
            "dropout_3 (Dropout)          (None, 4, 4, 512)         0         \n",
            "_________________________________________________________________\n",
            "flatten (Flatten)            (None, 8192)              0         \n",
            "_________________________________________________________________\n",
            "dense (Dense)                (None, 256)               2097408   \n",
            "_________________________________________________________________\n",
            "batch_normalization_4 (Batch (None, 256)               1024      \n",
            "_________________________________________________________________\n",
            "activation_4 (Activation)    (None, 256)               0         \n",
            "_________________________________________________________________\n",
            "dropout_4 (Dropout)          (None, 256)               0         \n",
            "_________________________________________________________________\n",
            "dense_1 (Dense)              (None, 512)               131584    \n",
            "_________________________________________________________________\n",
            "batch_normalization_5 (Batch (None, 512)               2048      \n",
            "_________________________________________________________________\n",
            "activation_5 (Activation)    (None, 512)               0         \n",
            "_________________________________________________________________\n",
            "dropout_5 (Dropout)          (None, 512)               0         \n",
            "_________________________________________________________________\n",
            "dense_2 (Dense)              (None, 6)                 3078      \n",
            "=================================================================\n",
            "Total params: 5,395,718\n",
            "Trainable params: 5,391,750\n",
            "Non-trainable params: 3,968\n",
            "_________________________________________________________________\n"
          ],
          "name": "stdout"
        }
      ]
    },
    {
      "cell_type": "code",
      "metadata": {
        "colab": {
          "base_uri": "https://localhost:8080/"
        },
        "id": "-Z61a8HYIejn",
        "outputId": "39d19163-5ae9-4419-a617-ff2a2b9f36dc"
      },
      "source": [
        "ephocs=15\n",
        "\n",
        "steps_per_epoch=train_generator.n//train_generator.batch_size\n",
        "\n",
        "steps_per_epoch\n",
        "\n",
        "validation_steps=validation_generator.n//validation_generator.batch_size\n",
        "\n",
        "validation_steps\n",
        "\n",
        "history=model.fit(\n",
        "\n",
        "    x=train_generator,\n",
        "\n",
        "    steps_per_epoch=steps_per_epoch,\n",
        "\n",
        "    epochs=ephocs,\n",
        "\n",
        "    validation_data=validation_generator,\n",
        "\n",
        "    validation_steps=validation_steps,\n",
        "\n",
        " #   callbacks=callbacks\n",
        "\n",
        ")\n",
        "\n",
        "model.save('hand_gesture.h5')"
      ],
      "execution_count": 7,
      "outputs": [
        {
          "output_type": "stream",
          "text": [
            "Epoch 1/15\n",
            "18/18 [==============================] - 393s 22s/step - loss: 1.0101 - accuracy: 0.6100 - val_loss: 153.0934 - val_accuracy: 0.1649\n",
            "Epoch 2/15\n",
            "18/18 [==============================] - 105s 6s/step - loss: 0.3318 - accuracy: 0.8935 - val_loss: 127.4513 - val_accuracy: 0.1649\n",
            "Epoch 3/15\n",
            "18/18 [==============================] - 102s 6s/step - loss: 0.1645 - accuracy: 0.9542 - val_loss: 84.8090 - val_accuracy: 0.1658\n",
            "Epoch 4/15\n",
            "18/18 [==============================] - 102s 6s/step - loss: 0.0933 - accuracy: 0.9798 - val_loss: 48.5075 - val_accuracy: 0.1701\n",
            "Epoch 5/15\n",
            "18/18 [==============================] - 104s 6s/step - loss: 0.0764 - accuracy: 0.9806 - val_loss: 31.0787 - val_accuracy: 0.1658\n",
            "Epoch 6/15\n",
            "18/18 [==============================] - 102s 6s/step - loss: 0.0513 - accuracy: 0.9886 - val_loss: 20.5443 - val_accuracy: 0.1615\n",
            "Epoch 7/15\n",
            "18/18 [==============================] - 102s 6s/step - loss: 0.0505 - accuracy: 0.9903 - val_loss: 9.6856 - val_accuracy: 0.2153\n",
            "Epoch 8/15\n",
            "18/18 [==============================] - 105s 6s/step - loss: 0.0434 - accuracy: 0.9894 - val_loss: 3.1820 - val_accuracy: 0.3229\n",
            "Epoch 9/15\n",
            "18/18 [==============================] - 104s 6s/step - loss: 0.0385 - accuracy: 0.9887 - val_loss: 0.4276 - val_accuracy: 0.8446\n",
            "Epoch 10/15\n",
            "18/18 [==============================] - 103s 6s/step - loss: 0.0233 - accuracy: 0.9965 - val_loss: 0.1923 - val_accuracy: 0.9132\n",
            "Epoch 11/15\n",
            "18/18 [==============================] - 108s 6s/step - loss: 0.0254 - accuracy: 0.9921 - val_loss: 0.1022 - val_accuracy: 0.9583\n",
            "Epoch 12/15\n",
            "18/18 [==============================] - 104s 6s/step - loss: 0.0284 - accuracy: 0.9938 - val_loss: 0.1027 - val_accuracy: 0.9549\n",
            "Epoch 13/15\n",
            "18/18 [==============================] - 103s 6s/step - loss: 0.0415 - accuracy: 0.9894 - val_loss: 0.1620 - val_accuracy: 0.9332\n",
            "Epoch 14/15\n",
            "18/18 [==============================] - 108s 6s/step - loss: 0.0197 - accuracy: 0.9947 - val_loss: 0.1921 - val_accuracy: 0.9149\n",
            "Epoch 15/15\n",
            "18/18 [==============================] - 103s 6s/step - loss: 0.0150 - accuracy: 0.9947 - val_loss: 0.4668 - val_accuracy: 0.8099\n"
          ],
          "name": "stdout"
        }
      ]
    },
    {
      "cell_type": "code",
      "metadata": {
        "colab": {
          "base_uri": "https://localhost:8080/",
          "height": 285
        },
        "id": "8PmqccAsQjcz",
        "outputId": "eaa75b6e-60b0-4382-9d84-93379241e7ee"
      },
      "source": [
        "import numpy as np\n",
        "\n",
        "from keras.preprocessing import image\n",
        "\n",
        "test_image = image.load_img('/content/drive/MyDrive/train/one/one101.png', target_size = (64,64),color_mode = \"grayscale\")\n",
        "\n",
        "plt.imshow(test_image)\n",
        "\n",
        "test_image = image.img_to_array(test_image)\n",
        "\n",
        "test_image = np.expand_dims(test_image, axis = 0)\n",
        "\n",
        "result = model.predict(test_image)\n",
        "\n",
        "a=result.argmax()\n",
        "\n",
        "s=train_generator.class_indices\n",
        "\n",
        "        #print(s)\n",
        "\n",
        "name=[]\n",
        "\n",
        "for i in s:\n",
        "\n",
        "    name.append(i)\n",
        "\n",
        "for i in range(len(s)):\n",
        "\n",
        "    if(i==a):\n",
        "\n",
        "        q=name[i]\n",
        "\n",
        "print(q)"
      ],
      "execution_count": 11,
      "outputs": [
        {
          "output_type": "stream",
          "text": [
            "one\n"
          ],
          "name": "stdout"
        },
        {
          "output_type": "display_data",
          "data": {
            "image/png": "[encoded data removed]",
            "text/plain": [
              "<Figure size 432x288 with 1 Axes>"
            ]
          },
          "metadata": {
            "tags": [],
            "needs_background": "light"
          }
        }
      ]
    },
    {
      "cell_type": "code",
      "metadata": {
        "id": "xU4MvxYWRUz9"
      },
      "source": [
        "from tensorflow.keras.models import load_model\n",
        "\n",
        "loaded_model=load_model('/content/hand_gesture.h5')"
      ],
      "execution_count": 13,
      "outputs": []
    },
    {
      "cell_type": "code",
      "metadata": {
        "colab": {
          "base_uri": "https://localhost:8080/",
          "height": 231
        },
        "id": "Exgq9dVARhwZ",
        "outputId": "deb0b637-b143-49b6-cefc-c69855acce51"
      },
      "source": [
        "from tensorflow.keras.preprocessing import image\n",
        "\n",
        "import numpy as np\n",
        "\n",
        "import cv2\n",
        "\n",
        "#we are starting our web cam\n",
        "\n",
        "webcam=cv2.VideoCapture(0)\n",
        "\n",
        "cap = cv2.VideoCapture(0)\n",
        "\n",
        "# Category dictionary\n",
        "\n",
        "categories = {0: 'ZERO', 1: 'ONE', 2: 'TWO', 3: 'THREE', 4: 'FOUR', 5: 'FIVE'}\n",
        "\n",
        "s=\"\"\n",
        "\n",
        "d={}\n",
        "\n",
        "p=\"\"\n",
        "\n",
        "count=0\n",
        "\n",
        "while True:\n",
        "  _, frame = cap.read()\n",
        "  # Simulating mirror image\n",
        "  frame = cv2.flip(frame, 1)\n",
        "  # Got this from collect-data.py\n",
        "  # Coordinates of the ROIimport sys\n",
        "\n",
        "  x1 = int(0.5*frame.shape[1])\n",
        "  y1 = 10\n",
        "  x2 = frame.shape[1]-10\n",
        "  y2 = int(0.5*frame.shape[1])\n",
        "  # Drawing the ROI\n",
        "  # The increment/decrement by 1 is to compensate for the bounding box\n",
        "  cv2.rectangle(frame, (x1-1, y1-1), (x2+1, y2+1), (255,0,0) ,1)\n",
        "  # Extracting the ROI\n",
        "  roi = frame[y1:y2, x1:x2]\n",
        "  # Resizing the ROI so it can be fed to the model for prediction\n",
        "  roi = cv2.resize(roi, (64, 64)) \n",
        "  roi = cv2.cvtColor(roi, cv2.COLOR_BGR2GRAY)\n",
        "  _, test_image = cv2.threshold(roi, 120, 255, cv2.THRESH_BINARY)\n",
        "  cv2.imshow(\"test\", test_image)\n",
        "  # Batch of 1\n",
        "  result = loaded_model.predict(test_image.reshape(1, 64, 64, 1))\n",
        "  prediction = {'FIVE': result[0][0], \n",
        "                'FOUR': result[0][1], \n",
        "                'ONE': result[0][2],\n",
        "                'THREE': result[0][3],\n",
        "                'TWO': result[0][4],\n",
        "                'ZERO': result[0][5]}\n",
        "  max_key = max(prediction, key=prediction.get)\n",
        "  cv2.putText(test_image,max_key,(x1,y1),cv2.FONT_HERSHEY_SIMPLEX,1,(255, 0, 0),2) \n",
        "  print(max_key)\n",
        "  cv2.imshow(\"Frame\", frame)\n",
        "  interrupt = cv2.waitKey(2)\n",
        "  if interrupt & 0xFF == 27: \n",
        "    # esc key\n",
        "    break\n",
        "\n",
        "cap.release()\n",
        "\n",
        "cv2.destroyAllWindows()"
      ],
      "execution_count": 17,
      "outputs": [
        {
          "output_type": "error",
          "ename": "AttributeError",
          "evalue": "ignored",
          "traceback": [
            "\u001b[0;31m---------------------------------------------------------------------------\u001b[0m",
            "\u001b[0;31mAttributeError\u001b[0m                            Traceback (most recent call last)",
            "\u001b[0;32m<ipython-input-17-fdea05592fcc>\u001b[0m in \u001b[0;36m<module>\u001b[0;34m()\u001b[0m\n\u001b[1;32m     29\u001b[0m   \u001b[0;31m# Got this from collect-data.py\u001b[0m\u001b[0;34m\u001b[0m\u001b[0;34m\u001b[0m\u001b[0;34m\u001b[0m\u001b[0m\n\u001b[1;32m     30\u001b[0m   \u001b[0;31m# Coordinates of the ROI\u001b[0m\u001b[0;34m\u001b[0m\u001b[0;34m\u001b[0m\u001b[0;34m\u001b[0m\u001b[0m\n\u001b[0;32m---> 31\u001b[0;31m   \u001b[0mx1\u001b[0m \u001b[0;34m=\u001b[0m \u001b[0mint\u001b[0m\u001b[0;34m(\u001b[0m\u001b[0;36m0.5\u001b[0m\u001b[0;34m*\u001b[0m\u001b[0mframe\u001b[0m\u001b[0;34m.\u001b[0m\u001b[0mshape\u001b[0m\u001b[0;34m[\u001b[0m\u001b[0;36m1\u001b[0m\u001b[0;34m]\u001b[0m\u001b[0;34m)\u001b[0m\u001b[0;34m\u001b[0m\u001b[0;34m\u001b[0m\u001b[0m\n\u001b[0m\u001b[1;32m     32\u001b[0m   \u001b[0my1\u001b[0m \u001b[0;34m=\u001b[0m \u001b[0;36m10\u001b[0m\u001b[0;34m\u001b[0m\u001b[0;34m\u001b[0m\u001b[0m\n\u001b[1;32m     33\u001b[0m   \u001b[0mx2\u001b[0m \u001b[0;34m=\u001b[0m \u001b[0mframe\u001b[0m\u001b[0;34m.\u001b[0m\u001b[0mshape\u001b[0m\u001b[0;34m[\u001b[0m\u001b[0;36m1\u001b[0m\u001b[0;34m]\u001b[0m\u001b[0;34m-\u001b[0m\u001b[0;36m10\u001b[0m\u001b[0;34m\u001b[0m\u001b[0;34m\u001b[0m\u001b[0m\n",
            "\u001b[0;31mAttributeError\u001b[0m: 'NoneType' object has no attribute 'shape'"
          ]
        }
      ]
    }
  ]
}